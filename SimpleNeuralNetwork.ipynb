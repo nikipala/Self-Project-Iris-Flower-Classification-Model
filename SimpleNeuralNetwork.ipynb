{
  "nbformat": 4,
  "nbformat_minor": 0,
  "metadata": {
    "colab": {
      "provenance": []
    },
    "kernelspec": {
      "name": "python3",
      "display_name": "Python 3"
    },
    "language_info": {
      "name": "python"
    }
  },
  "cells": [
    {
      "cell_type": "markdown",
      "source": [
        "## Creating Neural Network to classify Iris Flowers"
      ],
      "metadata": {
        "id": "XJGeDzTfcN41"
      }
    },
    {
      "cell_type": "markdown",
      "source": [
        "Note: Tensors are multi-dimensional arrays and are same as numpy arrays. Tensors have default data type of float34, and numpy arrays have default float64. Tensors are very useful as they work better on GPUs vs regular CPUs. More suitable for deep learning than numpy array.\n",
        "\n",
        "Use **torch.tensor(numpyArray)** #To convert numpy array into tensor\n",
        "\n",
        "Shortcut to run all cells, go to Runtime on top menu bar--->Run all"
      ],
      "metadata": {
        "id": "XEmTIztXa1Q-"
      }
    },
    {
      "cell_type": "code",
      "execution_count": null,
      "metadata": {
        "id": "Cl9VdGdHU3GW"
      },
      "outputs": [],
      "source": [
        "import torch # import Pytorch\n",
        "import torch.nn as nn #Torch has neural network library\n",
        "import torch.nn.functional as F #Helps to move data fowards in our function (neural network)"
      ]
    },
    {
      "cell_type": "code",
      "source": [
        "#Create model class that inherits nn.Module\n",
        "class Model(nn.Module):\n",
        "  # Input layer (4 features of the flower, sequal length and width, petal length and width)\n",
        "  # --->Hidden lyaer1 (number of neurons, e.g.4)\n",
        "  # --->Hidden layer2(n)\n",
        "  #---> output (3 classes of iris flowers)\n",
        "  def __init__(self, in_features=4, h1=8, h2=9, out_features=3):\n",
        "    #hidden layers have 8 neurons, hidden layer 2 have 9 norosn and 3 output classes\n",
        "    super().__init__() #insinatiate our nn.Module - using super constructor\n",
        "    self.fc1 = nn.Linear(in_features,h1) #input=in_features, output layer=h1, fc1 means fully connected layer 1\n",
        "    self.fc2 = nn.Linear(h1,h2)\n",
        "    self.out = nn.Linear(h2,out_features)\n",
        "\n",
        "  #To push data forward from one layer to the next\n",
        "  def forward(self,x):\n",
        "    #relu is the activation function, y=x if x is more than 0\n",
        "    #relu = rectified linear unit, if value is more than 0, use that value, otherwise say that value is 0 and continue\n",
        "    #push function into every layer:\n",
        "    x = F.relu(self.fc1(x))\n",
        "    x = F.relu(self.fc2(x))\n",
        "    x = self.out(x)\n",
        "\n",
        "    return x\n"
      ],
      "metadata": {
        "id": "6z4xr4VdVDjZ"
      },
      "execution_count": null,
      "outputs": []
    },
    {
      "cell_type": "markdown",
      "source": [
        "Other activation function: binary (poitive input guves 1 and negtive input gives 0), sigmoid (S curve), hyperbolic tangent\\\\"
      ],
      "metadata": {
        "id": "30H3N2TCl_sr"
      }
    },
    {
      "cell_type": "code",
      "source": [
        "#We want to start at a value then prodce random numbers, for this we can use seed - seed randomization\n",
        "# For each layer we will use random numbers, in order for random numbers to be similar or the same as tutor's, we can use seed\n",
        "#Pick a manual seed for randomisation:\n",
        "torch.manual_seed(41) #Choose any random number, in this case 41\n",
        "model = Model() #create the NN model\n",
        "model.parameters"
      ],
      "metadata": {
        "id": "P5pGV-S1XxTx",
        "colab": {
          "base_uri": "https://localhost:8080/",
          "height": 186
        },
        "outputId": "be0ee42d-f654-473b-ba16-b1e1f376de4a"
      },
      "execution_count": null,
      "outputs": [
        {
          "output_type": "execute_result",
          "data": {
            "text/plain": [
              "<bound method Module.parameters of Model(\n",
              "  (fc1): Linear(in_features=4, out_features=8, bias=True)\n",
              "  (fc2): Linear(in_features=8, out_features=9, bias=True)\n",
              "  (out): Linear(in_features=9, out_features=3, bias=True)\n",
              ")>"
            ],
            "text/html": [
              "<div style=\"max-width:800px; border: 1px solid var(--colab-border-color);\"><style>\n",
              "      pre.function-repr-contents {\n",
              "        overflow-x: auto;\n",
              "        padding: 8px 12px;\n",
              "        max-height: 500px;\n",
              "      }\n",
              "\n",
              "      pre.function-repr-contents.function-repr-contents-collapsed {\n",
              "        cursor: pointer;\n",
              "        max-height: 100px;\n",
              "      }\n",
              "    </style>\n",
              "    <pre style=\"white-space: initial; background:\n",
              "         var(--colab-secondary-surface-color); padding: 8px 12px;\n",
              "         border-bottom: 1px solid var(--colab-border-color);\"><b>torch.nn.modules.module.Module.parameters</b><br/>def parameters(recurse: bool=True) -&gt; Iterator[Parameter]</pre><pre class=\"function-repr-contents function-repr-contents-collapsed\" style=\"\"><a class=\"filepath\" style=\"display:none\" href=\"#\">/usr/local/lib/python3.10/dist-packages/torch/nn/modules/module.py</a>Return an iterator over module parameters.\n",
              "\n",
              "This is typically passed to an optimizer.\n",
              "\n",
              "Args:\n",
              "    recurse (bool): if True, then yields parameters of this module\n",
              "        and all submodules. Otherwise, yields only parameters that\n",
              "        are direct members of this module.\n",
              "\n",
              "Yields:\n",
              "    Parameter: module parameter\n",
              "\n",
              "Example::\n",
              "\n",
              "    &gt;&gt;&gt; # xdoctest: +SKIP(&quot;undefined vars&quot;)\n",
              "    &gt;&gt;&gt; for param in model.parameters():\n",
              "    &gt;&gt;&gt;     print(type(param), param.size())\n",
              "    &lt;class &#x27;torch.Tensor&#x27;&gt; (20L,)\n",
              "    &lt;class &#x27;torch.Tensor&#x27;&gt; (20L, 1L, 5L, 5L)</pre>\n",
              "      <script>\n",
              "      if (google.colab.kernel.accessAllowed && google.colab.files && google.colab.files.view) {\n",
              "        for (const element of document.querySelectorAll('.filepath')) {\n",
              "          element.style.display = 'block'\n",
              "          element.onclick = (event) => {\n",
              "            event.preventDefault();\n",
              "            event.stopPropagation();\n",
              "            google.colab.files.view(element.textContent, 2207);\n",
              "          };\n",
              "        }\n",
              "      }\n",
              "      for (const element of document.querySelectorAll('.function-repr-contents')) {\n",
              "        element.onclick = (event) => {\n",
              "          event.preventDefault();\n",
              "          event.stopPropagation();\n",
              "          element.classList.toggle('function-repr-contents-collapsed');\n",
              "        };\n",
              "      }\n",
              "      </script>\n",
              "      </div>"
            ]
          },
          "metadata": {},
          "execution_count": 33
        }
      ]
    },
    {
      "cell_type": "markdown",
      "source": [
        "# Training"
      ],
      "metadata": {
        "id": "1r0Sby4W4qLO"
      }
    },
    {
      "cell_type": "code",
      "source": [
        "import pandas as pd #To load data set\n",
        "import matplotlib.pyplot as plt # Draw charts\n",
        "#To draw chart inside notebook\n",
        "%matplotlib inline"
      ],
      "metadata": {
        "id": "6StKfApfnd95"
      },
      "execution_count": null,
      "outputs": []
    },
    {
      "cell_type": "code",
      "source": [
        "url = 'https://gist.githubusercontent.com/netj/8836201/raw/6f9306ad21398ea43cba4f7d537619d0e07d5ae3/iris.csv' #Table values in csv format\n",
        "my_df = pd.read_csv(url)#create dataframe\n",
        "#dataframe has 150 rows (50 rows per class), 4 columns as 4 features and extra column for the class/ label\n",
        "my_df #my_df.head() returns 1st 5 rows\n",
        "#my_df.tail() returns the last 5 rows of the table\n"
      ],
      "metadata": {
        "colab": {
          "base_uri": "https://localhost:8080/",
          "height": 423
        },
        "id": "MoOVi6bOnumb",
        "outputId": "1d7ae50d-ef6b-4821-a1c3-ab56c838669b"
      },
      "execution_count": null,
      "outputs": [
        {
          "output_type": "execute_result",
          "data": {
            "text/plain": [
              "     sepal.length  sepal.width  petal.length  petal.width    variety\n",
              "0             5.1          3.5           1.4          0.2     Setosa\n",
              "1             4.9          3.0           1.4          0.2     Setosa\n",
              "2             4.7          3.2           1.3          0.2     Setosa\n",
              "3             4.6          3.1           1.5          0.2     Setosa\n",
              "4             5.0          3.6           1.4          0.2     Setosa\n",
              "..            ...          ...           ...          ...        ...\n",
              "145           6.7          3.0           5.2          2.3  Virginica\n",
              "146           6.3          2.5           5.0          1.9  Virginica\n",
              "147           6.5          3.0           5.2          2.0  Virginica\n",
              "148           6.2          3.4           5.4          2.3  Virginica\n",
              "149           5.9          3.0           5.1          1.8  Virginica\n",
              "\n",
              "[150 rows x 5 columns]"
            ],
            "text/html": [
              "\n",
              "  <div id=\"df-1b8a0a18-fceb-431d-9b8a-64ce21987b5c\" class=\"colab-df-container\">\n",
              "    <div>\n",
              "<style scoped>\n",
              "    .dataframe tbody tr th:only-of-type {\n",
              "        vertical-align: middle;\n",
              "    }\n",
              "\n",
              "    .dataframe tbody tr th {\n",
              "        vertical-align: top;\n",
              "    }\n",
              "\n",
              "    .dataframe thead th {\n",
              "        text-align: right;\n",
              "    }\n",
              "</style>\n",
              "<table border=\"1\" class=\"dataframe\">\n",
              "  <thead>\n",
              "    <tr style=\"text-align: right;\">\n",
              "      <th></th>\n",
              "      <th>sepal.length</th>\n",
              "      <th>sepal.width</th>\n",
              "      <th>petal.length</th>\n",
              "      <th>petal.width</th>\n",
              "      <th>variety</th>\n",
              "    </tr>\n",
              "  </thead>\n",
              "  <tbody>\n",
              "    <tr>\n",
              "      <th>0</th>\n",
              "      <td>5.1</td>\n",
              "      <td>3.5</td>\n",
              "      <td>1.4</td>\n",
              "      <td>0.2</td>\n",
              "      <td>Setosa</td>\n",
              "    </tr>\n",
              "    <tr>\n",
              "      <th>1</th>\n",
              "      <td>4.9</td>\n",
              "      <td>3.0</td>\n",
              "      <td>1.4</td>\n",
              "      <td>0.2</td>\n",
              "      <td>Setosa</td>\n",
              "    </tr>\n",
              "    <tr>\n",
              "      <th>2</th>\n",
              "      <td>4.7</td>\n",
              "      <td>3.2</td>\n",
              "      <td>1.3</td>\n",
              "      <td>0.2</td>\n",
              "      <td>Setosa</td>\n",
              "    </tr>\n",
              "    <tr>\n",
              "      <th>3</th>\n",
              "      <td>4.6</td>\n",
              "      <td>3.1</td>\n",
              "      <td>1.5</td>\n",
              "      <td>0.2</td>\n",
              "      <td>Setosa</td>\n",
              "    </tr>\n",
              "    <tr>\n",
              "      <th>4</th>\n",
              "      <td>5.0</td>\n",
              "      <td>3.6</td>\n",
              "      <td>1.4</td>\n",
              "      <td>0.2</td>\n",
              "      <td>Setosa</td>\n",
              "    </tr>\n",
              "    <tr>\n",
              "      <th>...</th>\n",
              "      <td>...</td>\n",
              "      <td>...</td>\n",
              "      <td>...</td>\n",
              "      <td>...</td>\n",
              "      <td>...</td>\n",
              "    </tr>\n",
              "    <tr>\n",
              "      <th>145</th>\n",
              "      <td>6.7</td>\n",
              "      <td>3.0</td>\n",
              "      <td>5.2</td>\n",
              "      <td>2.3</td>\n",
              "      <td>Virginica</td>\n",
              "    </tr>\n",
              "    <tr>\n",
              "      <th>146</th>\n",
              "      <td>6.3</td>\n",
              "      <td>2.5</td>\n",
              "      <td>5.0</td>\n",
              "      <td>1.9</td>\n",
              "      <td>Virginica</td>\n",
              "    </tr>\n",
              "    <tr>\n",
              "      <th>147</th>\n",
              "      <td>6.5</td>\n",
              "      <td>3.0</td>\n",
              "      <td>5.2</td>\n",
              "      <td>2.0</td>\n",
              "      <td>Virginica</td>\n",
              "    </tr>\n",
              "    <tr>\n",
              "      <th>148</th>\n",
              "      <td>6.2</td>\n",
              "      <td>3.4</td>\n",
              "      <td>5.4</td>\n",
              "      <td>2.3</td>\n",
              "      <td>Virginica</td>\n",
              "    </tr>\n",
              "    <tr>\n",
              "      <th>149</th>\n",
              "      <td>5.9</td>\n",
              "      <td>3.0</td>\n",
              "      <td>5.1</td>\n",
              "      <td>1.8</td>\n",
              "      <td>Virginica</td>\n",
              "    </tr>\n",
              "  </tbody>\n",
              "</table>\n",
              "<p>150 rows × 5 columns</p>\n",
              "</div>\n",
              "    <div class=\"colab-df-buttons\">\n",
              "\n",
              "  <div class=\"colab-df-container\">\n",
              "    <button class=\"colab-df-convert\" onclick=\"convertToInteractive('df-1b8a0a18-fceb-431d-9b8a-64ce21987b5c')\"\n",
              "            title=\"Convert this dataframe to an interactive table.\"\n",
              "            style=\"display:none;\">\n",
              "\n",
              "  <svg xmlns=\"http://www.w3.org/2000/svg\" height=\"24px\" viewBox=\"0 -960 960 960\">\n",
              "    <path d=\"M120-120v-720h720v720H120Zm60-500h600v-160H180v160Zm220 220h160v-160H400v160Zm0 220h160v-160H400v160ZM180-400h160v-160H180v160Zm440 0h160v-160H620v160ZM180-180h160v-160H180v160Zm440 0h160v-160H620v160Z\"/>\n",
              "  </svg>\n",
              "    </button>\n",
              "\n",
              "  <style>\n",
              "    .colab-df-container {\n",
              "      display:flex;\n",
              "      gap: 12px;\n",
              "    }\n",
              "\n",
              "    .colab-df-convert {\n",
              "      background-color: #E8F0FE;\n",
              "      border: none;\n",
              "      border-radius: 50%;\n",
              "      cursor: pointer;\n",
              "      display: none;\n",
              "      fill: #1967D2;\n",
              "      height: 32px;\n",
              "      padding: 0 0 0 0;\n",
              "      width: 32px;\n",
              "    }\n",
              "\n",
              "    .colab-df-convert:hover {\n",
              "      background-color: #E2EBFA;\n",
              "      box-shadow: 0px 1px 2px rgba(60, 64, 67, 0.3), 0px 1px 3px 1px rgba(60, 64, 67, 0.15);\n",
              "      fill: #174EA6;\n",
              "    }\n",
              "\n",
              "    .colab-df-buttons div {\n",
              "      margin-bottom: 4px;\n",
              "    }\n",
              "\n",
              "    [theme=dark] .colab-df-convert {\n",
              "      background-color: #3B4455;\n",
              "      fill: #D2E3FC;\n",
              "    }\n",
              "\n",
              "    [theme=dark] .colab-df-convert:hover {\n",
              "      background-color: #434B5C;\n",
              "      box-shadow: 0px 1px 3px 1px rgba(0, 0, 0, 0.15);\n",
              "      filter: drop-shadow(0px 1px 2px rgba(0, 0, 0, 0.3));\n",
              "      fill: #FFFFFF;\n",
              "    }\n",
              "  </style>\n",
              "\n",
              "    <script>\n",
              "      const buttonEl =\n",
              "        document.querySelector('#df-1b8a0a18-fceb-431d-9b8a-64ce21987b5c button.colab-df-convert');\n",
              "      buttonEl.style.display =\n",
              "        google.colab.kernel.accessAllowed ? 'block' : 'none';\n",
              "\n",
              "      async function convertToInteractive(key) {\n",
              "        const element = document.querySelector('#df-1b8a0a18-fceb-431d-9b8a-64ce21987b5c');\n",
              "        const dataTable =\n",
              "          await google.colab.kernel.invokeFunction('convertToInteractive',\n",
              "                                                    [key], {});\n",
              "        if (!dataTable) return;\n",
              "\n",
              "        const docLinkHtml = 'Like what you see? Visit the ' +\n",
              "          '<a target=\"_blank\" href=https://colab.research.google.com/notebooks/data_table.ipynb>data table notebook</a>'\n",
              "          + ' to learn more about interactive tables.';\n",
              "        element.innerHTML = '';\n",
              "        dataTable['output_type'] = 'display_data';\n",
              "        await google.colab.output.renderOutput(dataTable, element);\n",
              "        const docLink = document.createElement('div');\n",
              "        docLink.innerHTML = docLinkHtml;\n",
              "        element.appendChild(docLink);\n",
              "      }\n",
              "    </script>\n",
              "  </div>\n",
              "\n",
              "\n",
              "<div id=\"df-265598b4-93b4-49fe-8158-3f542269dae5\">\n",
              "  <button class=\"colab-df-quickchart\" onclick=\"quickchart('df-265598b4-93b4-49fe-8158-3f542269dae5')\"\n",
              "            title=\"Suggest charts\"\n",
              "            style=\"display:none;\">\n",
              "\n",
              "<svg xmlns=\"http://www.w3.org/2000/svg\" height=\"24px\"viewBox=\"0 0 24 24\"\n",
              "     width=\"24px\">\n",
              "    <g>\n",
              "        <path d=\"M19 3H5c-1.1 0-2 .9-2 2v14c0 1.1.9 2 2 2h14c1.1 0 2-.9 2-2V5c0-1.1-.9-2-2-2zM9 17H7v-7h2v7zm4 0h-2V7h2v10zm4 0h-2v-4h2v4z\"/>\n",
              "    </g>\n",
              "</svg>\n",
              "  </button>\n",
              "\n",
              "<style>\n",
              "  .colab-df-quickchart {\n",
              "      --bg-color: #E8F0FE;\n",
              "      --fill-color: #1967D2;\n",
              "      --hover-bg-color: #E2EBFA;\n",
              "      --hover-fill-color: #174EA6;\n",
              "      --disabled-fill-color: #AAA;\n",
              "      --disabled-bg-color: #DDD;\n",
              "  }\n",
              "\n",
              "  [theme=dark] .colab-df-quickchart {\n",
              "      --bg-color: #3B4455;\n",
              "      --fill-color: #D2E3FC;\n",
              "      --hover-bg-color: #434B5C;\n",
              "      --hover-fill-color: #FFFFFF;\n",
              "      --disabled-bg-color: #3B4455;\n",
              "      --disabled-fill-color: #666;\n",
              "  }\n",
              "\n",
              "  .colab-df-quickchart {\n",
              "    background-color: var(--bg-color);\n",
              "    border: none;\n",
              "    border-radius: 50%;\n",
              "    cursor: pointer;\n",
              "    display: none;\n",
              "    fill: var(--fill-color);\n",
              "    height: 32px;\n",
              "    padding: 0;\n",
              "    width: 32px;\n",
              "  }\n",
              "\n",
              "  .colab-df-quickchart:hover {\n",
              "    background-color: var(--hover-bg-color);\n",
              "    box-shadow: 0 1px 2px rgba(60, 64, 67, 0.3), 0 1px 3px 1px rgba(60, 64, 67, 0.15);\n",
              "    fill: var(--button-hover-fill-color);\n",
              "  }\n",
              "\n",
              "  .colab-df-quickchart-complete:disabled,\n",
              "  .colab-df-quickchart-complete:disabled:hover {\n",
              "    background-color: var(--disabled-bg-color);\n",
              "    fill: var(--disabled-fill-color);\n",
              "    box-shadow: none;\n",
              "  }\n",
              "\n",
              "  .colab-df-spinner {\n",
              "    border: 2px solid var(--fill-color);\n",
              "    border-color: transparent;\n",
              "    border-bottom-color: var(--fill-color);\n",
              "    animation:\n",
              "      spin 1s steps(1) infinite;\n",
              "  }\n",
              "\n",
              "  @keyframes spin {\n",
              "    0% {\n",
              "      border-color: transparent;\n",
              "      border-bottom-color: var(--fill-color);\n",
              "      border-left-color: var(--fill-color);\n",
              "    }\n",
              "    20% {\n",
              "      border-color: transparent;\n",
              "      border-left-color: var(--fill-color);\n",
              "      border-top-color: var(--fill-color);\n",
              "    }\n",
              "    30% {\n",
              "      border-color: transparent;\n",
              "      border-left-color: var(--fill-color);\n",
              "      border-top-color: var(--fill-color);\n",
              "      border-right-color: var(--fill-color);\n",
              "    }\n",
              "    40% {\n",
              "      border-color: transparent;\n",
              "      border-right-color: var(--fill-color);\n",
              "      border-top-color: var(--fill-color);\n",
              "    }\n",
              "    60% {\n",
              "      border-color: transparent;\n",
              "      border-right-color: var(--fill-color);\n",
              "    }\n",
              "    80% {\n",
              "      border-color: transparent;\n",
              "      border-right-color: var(--fill-color);\n",
              "      border-bottom-color: var(--fill-color);\n",
              "    }\n",
              "    90% {\n",
              "      border-color: transparent;\n",
              "      border-bottom-color: var(--fill-color);\n",
              "    }\n",
              "  }\n",
              "</style>\n",
              "\n",
              "  <script>\n",
              "    async function quickchart(key) {\n",
              "      const quickchartButtonEl =\n",
              "        document.querySelector('#' + key + ' button');\n",
              "      quickchartButtonEl.disabled = true;  // To prevent multiple clicks.\n",
              "      quickchartButtonEl.classList.add('colab-df-spinner');\n",
              "      try {\n",
              "        const charts = await google.colab.kernel.invokeFunction(\n",
              "            'suggestCharts', [key], {});\n",
              "      } catch (error) {\n",
              "        console.error('Error during call to suggestCharts:', error);\n",
              "      }\n",
              "      quickchartButtonEl.classList.remove('colab-df-spinner');\n",
              "      quickchartButtonEl.classList.add('colab-df-quickchart-complete');\n",
              "    }\n",
              "    (() => {\n",
              "      let quickchartButtonEl =\n",
              "        document.querySelector('#df-265598b4-93b4-49fe-8158-3f542269dae5 button');\n",
              "      quickchartButtonEl.style.display =\n",
              "        google.colab.kernel.accessAllowed ? 'block' : 'none';\n",
              "    })();\n",
              "  </script>\n",
              "</div>\n",
              "    </div>\n",
              "  </div>\n"
            ],
            "application/vnd.google.colaboratory.intrinsic+json": {
              "type": "dataframe",
              "variable_name": "my_df",
              "summary": "{\n  \"name\": \"my_df\",\n  \"rows\": 150,\n  \"fields\": [\n    {\n      \"column\": \"sepal.length\",\n      \"properties\": {\n        \"dtype\": \"number\",\n        \"std\": 0.828066127977863,\n        \"min\": 4.3,\n        \"max\": 7.9,\n        \"num_unique_values\": 35,\n        \"samples\": [\n          6.2,\n          4.5,\n          5.6\n        ],\n        \"semantic_type\": \"\",\n        \"description\": \"\"\n      }\n    },\n    {\n      \"column\": \"sepal.width\",\n      \"properties\": {\n        \"dtype\": \"number\",\n        \"std\": 0.4358662849366982,\n        \"min\": 2.0,\n        \"max\": 4.4,\n        \"num_unique_values\": 23,\n        \"samples\": [\n          2.3,\n          4.0,\n          3.5\n        ],\n        \"semantic_type\": \"\",\n        \"description\": \"\"\n      }\n    },\n    {\n      \"column\": \"petal.length\",\n      \"properties\": {\n        \"dtype\": \"number\",\n        \"std\": 1.7652982332594662,\n        \"min\": 1.0,\n        \"max\": 6.9,\n        \"num_unique_values\": 43,\n        \"samples\": [\n          6.7,\n          3.8,\n          3.7\n        ],\n        \"semantic_type\": \"\",\n        \"description\": \"\"\n      }\n    },\n    {\n      \"column\": \"petal.width\",\n      \"properties\": {\n        \"dtype\": \"number\",\n        \"std\": 0.7622376689603465,\n        \"min\": 0.1,\n        \"max\": 2.5,\n        \"num_unique_values\": 22,\n        \"samples\": [\n          0.2,\n          1.2,\n          1.3\n        ],\n        \"semantic_type\": \"\",\n        \"description\": \"\"\n      }\n    },\n    {\n      \"column\": \"variety\",\n      \"properties\": {\n        \"dtype\": \"category\",\n        \"num_unique_values\": 3,\n        \"samples\": [\n          \"Setosa\",\n          \"Versicolor\",\n          \"Virginica\"\n        ],\n        \"semantic_type\": \"\",\n        \"description\": \"\"\n      }\n    }\n  ]\n}"
            }
          },
          "metadata": {},
          "execution_count": 35
        }
      ]
    },
    {
      "cell_type": "code",
      "source": [
        "#Change last column to integer (as NN can only take number inputs and not strings)\n",
        "my_df['variety'] = my_df['variety'].replace('Setosa',0.0)\n",
        "my_df['variety'] = my_df['variety'].replace('Versicolor',1.0)\n",
        "my_df['variety'] = my_df['variety'].replace('Virginica',2.0)\n",
        "my_df"
      ],
      "metadata": {
        "colab": {
          "base_uri": "https://localhost:8080/",
          "height": 423
        },
        "id": "v2trMv9ZrMVj",
        "outputId": "624130de-e8c5-4bae-94b1-02fbd16e33d7"
      },
      "execution_count": null,
      "outputs": [
        {
          "output_type": "execute_result",
          "data": {
            "text/plain": [
              "     sepal.length  sepal.width  petal.length  petal.width  variety\n",
              "0             5.1          3.5           1.4          0.2      0.0\n",
              "1             4.9          3.0           1.4          0.2      0.0\n",
              "2             4.7          3.2           1.3          0.2      0.0\n",
              "3             4.6          3.1           1.5          0.2      0.0\n",
              "4             5.0          3.6           1.4          0.2      0.0\n",
              "..            ...          ...           ...          ...      ...\n",
              "145           6.7          3.0           5.2          2.3      2.0\n",
              "146           6.3          2.5           5.0          1.9      2.0\n",
              "147           6.5          3.0           5.2          2.0      2.0\n",
              "148           6.2          3.4           5.4          2.3      2.0\n",
              "149           5.9          3.0           5.1          1.8      2.0\n",
              "\n",
              "[150 rows x 5 columns]"
            ],
            "text/html": [
              "\n",
              "  <div id=\"df-1049d936-bdde-45b2-9811-90f0b6a81deb\" class=\"colab-df-container\">\n",
              "    <div>\n",
              "<style scoped>\n",
              "    .dataframe tbody tr th:only-of-type {\n",
              "        vertical-align: middle;\n",
              "    }\n",
              "\n",
              "    .dataframe tbody tr th {\n",
              "        vertical-align: top;\n",
              "    }\n",
              "\n",
              "    .dataframe thead th {\n",
              "        text-align: right;\n",
              "    }\n",
              "</style>\n",
              "<table border=\"1\" class=\"dataframe\">\n",
              "  <thead>\n",
              "    <tr style=\"text-align: right;\">\n",
              "      <th></th>\n",
              "      <th>sepal.length</th>\n",
              "      <th>sepal.width</th>\n",
              "      <th>petal.length</th>\n",
              "      <th>petal.width</th>\n",
              "      <th>variety</th>\n",
              "    </tr>\n",
              "  </thead>\n",
              "  <tbody>\n",
              "    <tr>\n",
              "      <th>0</th>\n",
              "      <td>5.1</td>\n",
              "      <td>3.5</td>\n",
              "      <td>1.4</td>\n",
              "      <td>0.2</td>\n",
              "      <td>0.0</td>\n",
              "    </tr>\n",
              "    <tr>\n",
              "      <th>1</th>\n",
              "      <td>4.9</td>\n",
              "      <td>3.0</td>\n",
              "      <td>1.4</td>\n",
              "      <td>0.2</td>\n",
              "      <td>0.0</td>\n",
              "    </tr>\n",
              "    <tr>\n",
              "      <th>2</th>\n",
              "      <td>4.7</td>\n",
              "      <td>3.2</td>\n",
              "      <td>1.3</td>\n",
              "      <td>0.2</td>\n",
              "      <td>0.0</td>\n",
              "    </tr>\n",
              "    <tr>\n",
              "      <th>3</th>\n",
              "      <td>4.6</td>\n",
              "      <td>3.1</td>\n",
              "      <td>1.5</td>\n",
              "      <td>0.2</td>\n",
              "      <td>0.0</td>\n",
              "    </tr>\n",
              "    <tr>\n",
              "      <th>4</th>\n",
              "      <td>5.0</td>\n",
              "      <td>3.6</td>\n",
              "      <td>1.4</td>\n",
              "      <td>0.2</td>\n",
              "      <td>0.0</td>\n",
              "    </tr>\n",
              "    <tr>\n",
              "      <th>...</th>\n",
              "      <td>...</td>\n",
              "      <td>...</td>\n",
              "      <td>...</td>\n",
              "      <td>...</td>\n",
              "      <td>...</td>\n",
              "    </tr>\n",
              "    <tr>\n",
              "      <th>145</th>\n",
              "      <td>6.7</td>\n",
              "      <td>3.0</td>\n",
              "      <td>5.2</td>\n",
              "      <td>2.3</td>\n",
              "      <td>2.0</td>\n",
              "    </tr>\n",
              "    <tr>\n",
              "      <th>146</th>\n",
              "      <td>6.3</td>\n",
              "      <td>2.5</td>\n",
              "      <td>5.0</td>\n",
              "      <td>1.9</td>\n",
              "      <td>2.0</td>\n",
              "    </tr>\n",
              "    <tr>\n",
              "      <th>147</th>\n",
              "      <td>6.5</td>\n",
              "      <td>3.0</td>\n",
              "      <td>5.2</td>\n",
              "      <td>2.0</td>\n",
              "      <td>2.0</td>\n",
              "    </tr>\n",
              "    <tr>\n",
              "      <th>148</th>\n",
              "      <td>6.2</td>\n",
              "      <td>3.4</td>\n",
              "      <td>5.4</td>\n",
              "      <td>2.3</td>\n",
              "      <td>2.0</td>\n",
              "    </tr>\n",
              "    <tr>\n",
              "      <th>149</th>\n",
              "      <td>5.9</td>\n",
              "      <td>3.0</td>\n",
              "      <td>5.1</td>\n",
              "      <td>1.8</td>\n",
              "      <td>2.0</td>\n",
              "    </tr>\n",
              "  </tbody>\n",
              "</table>\n",
              "<p>150 rows × 5 columns</p>\n",
              "</div>\n",
              "    <div class=\"colab-df-buttons\">\n",
              "\n",
              "  <div class=\"colab-df-container\">\n",
              "    <button class=\"colab-df-convert\" onclick=\"convertToInteractive('df-1049d936-bdde-45b2-9811-90f0b6a81deb')\"\n",
              "            title=\"Convert this dataframe to an interactive table.\"\n",
              "            style=\"display:none;\">\n",
              "\n",
              "  <svg xmlns=\"http://www.w3.org/2000/svg\" height=\"24px\" viewBox=\"0 -960 960 960\">\n",
              "    <path d=\"M120-120v-720h720v720H120Zm60-500h600v-160H180v160Zm220 220h160v-160H400v160Zm0 220h160v-160H400v160ZM180-400h160v-160H180v160Zm440 0h160v-160H620v160ZM180-180h160v-160H180v160Zm440 0h160v-160H620v160Z\"/>\n",
              "  </svg>\n",
              "    </button>\n",
              "\n",
              "  <style>\n",
              "    .colab-df-container {\n",
              "      display:flex;\n",
              "      gap: 12px;\n",
              "    }\n",
              "\n",
              "    .colab-df-convert {\n",
              "      background-color: #E8F0FE;\n",
              "      border: none;\n",
              "      border-radius: 50%;\n",
              "      cursor: pointer;\n",
              "      display: none;\n",
              "      fill: #1967D2;\n",
              "      height: 32px;\n",
              "      padding: 0 0 0 0;\n",
              "      width: 32px;\n",
              "    }\n",
              "\n",
              "    .colab-df-convert:hover {\n",
              "      background-color: #E2EBFA;\n",
              "      box-shadow: 0px 1px 2px rgba(60, 64, 67, 0.3), 0px 1px 3px 1px rgba(60, 64, 67, 0.15);\n",
              "      fill: #174EA6;\n",
              "    }\n",
              "\n",
              "    .colab-df-buttons div {\n",
              "      margin-bottom: 4px;\n",
              "    }\n",
              "\n",
              "    [theme=dark] .colab-df-convert {\n",
              "      background-color: #3B4455;\n",
              "      fill: #D2E3FC;\n",
              "    }\n",
              "\n",
              "    [theme=dark] .colab-df-convert:hover {\n",
              "      background-color: #434B5C;\n",
              "      box-shadow: 0px 1px 3px 1px rgba(0, 0, 0, 0.15);\n",
              "      filter: drop-shadow(0px 1px 2px rgba(0, 0, 0, 0.3));\n",
              "      fill: #FFFFFF;\n",
              "    }\n",
              "  </style>\n",
              "\n",
              "    <script>\n",
              "      const buttonEl =\n",
              "        document.querySelector('#df-1049d936-bdde-45b2-9811-90f0b6a81deb button.colab-df-convert');\n",
              "      buttonEl.style.display =\n",
              "        google.colab.kernel.accessAllowed ? 'block' : 'none';\n",
              "\n",
              "      async function convertToInteractive(key) {\n",
              "        const element = document.querySelector('#df-1049d936-bdde-45b2-9811-90f0b6a81deb');\n",
              "        const dataTable =\n",
              "          await google.colab.kernel.invokeFunction('convertToInteractive',\n",
              "                                                    [key], {});\n",
              "        if (!dataTable) return;\n",
              "\n",
              "        const docLinkHtml = 'Like what you see? Visit the ' +\n",
              "          '<a target=\"_blank\" href=https://colab.research.google.com/notebooks/data_table.ipynb>data table notebook</a>'\n",
              "          + ' to learn more about interactive tables.';\n",
              "        element.innerHTML = '';\n",
              "        dataTable['output_type'] = 'display_data';\n",
              "        await google.colab.output.renderOutput(dataTable, element);\n",
              "        const docLink = document.createElement('div');\n",
              "        docLink.innerHTML = docLinkHtml;\n",
              "        element.appendChild(docLink);\n",
              "      }\n",
              "    </script>\n",
              "  </div>\n",
              "\n",
              "\n",
              "<div id=\"df-2a52c590-40ea-45ae-bbba-1190211e1bb9\">\n",
              "  <button class=\"colab-df-quickchart\" onclick=\"quickchart('df-2a52c590-40ea-45ae-bbba-1190211e1bb9')\"\n",
              "            title=\"Suggest charts\"\n",
              "            style=\"display:none;\">\n",
              "\n",
              "<svg xmlns=\"http://www.w3.org/2000/svg\" height=\"24px\"viewBox=\"0 0 24 24\"\n",
              "     width=\"24px\">\n",
              "    <g>\n",
              "        <path d=\"M19 3H5c-1.1 0-2 .9-2 2v14c0 1.1.9 2 2 2h14c1.1 0 2-.9 2-2V5c0-1.1-.9-2-2-2zM9 17H7v-7h2v7zm4 0h-2V7h2v10zm4 0h-2v-4h2v4z\"/>\n",
              "    </g>\n",
              "</svg>\n",
              "  </button>\n",
              "\n",
              "<style>\n",
              "  .colab-df-quickchart {\n",
              "      --bg-color: #E8F0FE;\n",
              "      --fill-color: #1967D2;\n",
              "      --hover-bg-color: #E2EBFA;\n",
              "      --hover-fill-color: #174EA6;\n",
              "      --disabled-fill-color: #AAA;\n",
              "      --disabled-bg-color: #DDD;\n",
              "  }\n",
              "\n",
              "  [theme=dark] .colab-df-quickchart {\n",
              "      --bg-color: #3B4455;\n",
              "      --fill-color: #D2E3FC;\n",
              "      --hover-bg-color: #434B5C;\n",
              "      --hover-fill-color: #FFFFFF;\n",
              "      --disabled-bg-color: #3B4455;\n",
              "      --disabled-fill-color: #666;\n",
              "  }\n",
              "\n",
              "  .colab-df-quickchart {\n",
              "    background-color: var(--bg-color);\n",
              "    border: none;\n",
              "    border-radius: 50%;\n",
              "    cursor: pointer;\n",
              "    display: none;\n",
              "    fill: var(--fill-color);\n",
              "    height: 32px;\n",
              "    padding: 0;\n",
              "    width: 32px;\n",
              "  }\n",
              "\n",
              "  .colab-df-quickchart:hover {\n",
              "    background-color: var(--hover-bg-color);\n",
              "    box-shadow: 0 1px 2px rgba(60, 64, 67, 0.3), 0 1px 3px 1px rgba(60, 64, 67, 0.15);\n",
              "    fill: var(--button-hover-fill-color);\n",
              "  }\n",
              "\n",
              "  .colab-df-quickchart-complete:disabled,\n",
              "  .colab-df-quickchart-complete:disabled:hover {\n",
              "    background-color: var(--disabled-bg-color);\n",
              "    fill: var(--disabled-fill-color);\n",
              "    box-shadow: none;\n",
              "  }\n",
              "\n",
              "  .colab-df-spinner {\n",
              "    border: 2px solid var(--fill-color);\n",
              "    border-color: transparent;\n",
              "    border-bottom-color: var(--fill-color);\n",
              "    animation:\n",
              "      spin 1s steps(1) infinite;\n",
              "  }\n",
              "\n",
              "  @keyframes spin {\n",
              "    0% {\n",
              "      border-color: transparent;\n",
              "      border-bottom-color: var(--fill-color);\n",
              "      border-left-color: var(--fill-color);\n",
              "    }\n",
              "    20% {\n",
              "      border-color: transparent;\n",
              "      border-left-color: var(--fill-color);\n",
              "      border-top-color: var(--fill-color);\n",
              "    }\n",
              "    30% {\n",
              "      border-color: transparent;\n",
              "      border-left-color: var(--fill-color);\n",
              "      border-top-color: var(--fill-color);\n",
              "      border-right-color: var(--fill-color);\n",
              "    }\n",
              "    40% {\n",
              "      border-color: transparent;\n",
              "      border-right-color: var(--fill-color);\n",
              "      border-top-color: var(--fill-color);\n",
              "    }\n",
              "    60% {\n",
              "      border-color: transparent;\n",
              "      border-right-color: var(--fill-color);\n",
              "    }\n",
              "    80% {\n",
              "      border-color: transparent;\n",
              "      border-right-color: var(--fill-color);\n",
              "      border-bottom-color: var(--fill-color);\n",
              "    }\n",
              "    90% {\n",
              "      border-color: transparent;\n",
              "      border-bottom-color: var(--fill-color);\n",
              "    }\n",
              "  }\n",
              "</style>\n",
              "\n",
              "  <script>\n",
              "    async function quickchart(key) {\n",
              "      const quickchartButtonEl =\n",
              "        document.querySelector('#' + key + ' button');\n",
              "      quickchartButtonEl.disabled = true;  // To prevent multiple clicks.\n",
              "      quickchartButtonEl.classList.add('colab-df-spinner');\n",
              "      try {\n",
              "        const charts = await google.colab.kernel.invokeFunction(\n",
              "            'suggestCharts', [key], {});\n",
              "      } catch (error) {\n",
              "        console.error('Error during call to suggestCharts:', error);\n",
              "      }\n",
              "      quickchartButtonEl.classList.remove('colab-df-spinner');\n",
              "      quickchartButtonEl.classList.add('colab-df-quickchart-complete');\n",
              "    }\n",
              "    (() => {\n",
              "      let quickchartButtonEl =\n",
              "        document.querySelector('#df-2a52c590-40ea-45ae-bbba-1190211e1bb9 button');\n",
              "      quickchartButtonEl.style.display =\n",
              "        google.colab.kernel.accessAllowed ? 'block' : 'none';\n",
              "    })();\n",
              "  </script>\n",
              "</div>\n",
              "    </div>\n",
              "  </div>\n"
            ],
            "application/vnd.google.colaboratory.intrinsic+json": {
              "type": "dataframe",
              "variable_name": "my_df",
              "summary": "{\n  \"name\": \"my_df\",\n  \"rows\": 150,\n  \"fields\": [\n    {\n      \"column\": \"sepal.length\",\n      \"properties\": {\n        \"dtype\": \"number\",\n        \"std\": 0.828066127977863,\n        \"min\": 4.3,\n        \"max\": 7.9,\n        \"num_unique_values\": 35,\n        \"samples\": [\n          6.2,\n          4.5,\n          5.6\n        ],\n        \"semantic_type\": \"\",\n        \"description\": \"\"\n      }\n    },\n    {\n      \"column\": \"sepal.width\",\n      \"properties\": {\n        \"dtype\": \"number\",\n        \"std\": 0.4358662849366982,\n        \"min\": 2.0,\n        \"max\": 4.4,\n        \"num_unique_values\": 23,\n        \"samples\": [\n          2.3,\n          4.0,\n          3.5\n        ],\n        \"semantic_type\": \"\",\n        \"description\": \"\"\n      }\n    },\n    {\n      \"column\": \"petal.length\",\n      \"properties\": {\n        \"dtype\": \"number\",\n        \"std\": 1.7652982332594662,\n        \"min\": 1.0,\n        \"max\": 6.9,\n        \"num_unique_values\": 43,\n        \"samples\": [\n          6.7,\n          3.8,\n          3.7\n        ],\n        \"semantic_type\": \"\",\n        \"description\": \"\"\n      }\n    },\n    {\n      \"column\": \"petal.width\",\n      \"properties\": {\n        \"dtype\": \"number\",\n        \"std\": 0.7622376689603465,\n        \"min\": 0.1,\n        \"max\": 2.5,\n        \"num_unique_values\": 22,\n        \"samples\": [\n          0.2,\n          1.2,\n          1.3\n        ],\n        \"semantic_type\": \"\",\n        \"description\": \"\"\n      }\n    },\n    {\n      \"column\": \"variety\",\n      \"properties\": {\n        \"dtype\": \"number\",\n        \"std\": 0.8192319205190405,\n        \"min\": 0.0,\n        \"max\": 2.0,\n        \"num_unique_values\": 3,\n        \"samples\": [\n          0.0,\n          1.0,\n          2.0\n        ],\n        \"semantic_type\": \"\",\n        \"description\": \"\"\n      }\n    }\n  ]\n}"
            }
          },
          "metadata": {},
          "execution_count": 36
        }
      ]
    },
    {
      "cell_type": "code",
      "source": [
        "#Train Test Split - set X,y\n",
        "#x are the features\n",
        "X=my_df.drop('variety',axis=1) #axis due to pandas\n",
        "#y is the target label\n",
        "y=my_df['variety']\n",
        "\n"
      ],
      "metadata": {
        "id": "Cl9n5qvLtBxB"
      },
      "execution_count": null,
      "outputs": []
    },
    {
      "cell_type": "code",
      "source": [
        "#Convert dataframe into numpy arrays so that we can access the values like arrays, e.g. x1, x2, x3 and create the connections\n",
        "X=X.values #use X, y by convention\n",
        "y=y.values\n",
        "#X"
      ],
      "metadata": {
        "id": "c3vc3sD_2MYL"
      },
      "execution_count": null,
      "outputs": []
    },
    {
      "cell_type": "code",
      "source": [
        "from sklearn.model_selection import train_test_split"
      ],
      "metadata": {
        "id": "W4EBoT8f2mNl"
      },
      "execution_count": null,
      "outputs": []
    },
    {
      "cell_type": "code",
      "source": [
        "#To split data into training data and testing data\n",
        "#test_size is 20% (30/150, therefore 10 per class) of data and 80% training (120/150, therefore 40 per class)\n",
        "#random state needed for which rows are selected per class, e.g. row 1, 3, 7, 9 etc for class 0\n",
        "X_train, X_test, y_train, y_test = train_test_split(X, y, test_size=0.2, random_state=41) # testing y is only for double-checking if our model is working correctly\n"
      ],
      "metadata": {
        "id": "padk5Jz-4I0u"
      },
      "execution_count": null,
      "outputs": []
    },
    {
      "cell_type": "code",
      "source": [
        "#Convert X features (numpy arrays) into tensors\n",
        "# All the x values are floats, tehrefore use float tensor\n",
        "X_train = torch.FloatTensor(X_train)\n",
        "X_test = torch.FloatTensor(X_test)\n",
        "#Using tensors makes it faster for GPU use"
      ],
      "metadata": {
        "id": "bj4_po0L6w-x"
      },
      "execution_count": null,
      "outputs": []
    },
    {
      "cell_type": "code",
      "source": [
        "#Convert y labels to tensors long, long represent 64 bit integers\n",
        "y_train = torch.LongTensor(y_train)\n",
        "y_test = torch.LongTensor(y_test)"
      ],
      "metadata": {
        "id": "R85-ijek7cGR"
      },
      "execution_count": null,
      "outputs": []
    },
    {
      "cell_type": "code",
      "source": [
        "#Set the criterion of the model to measure the error, how far of we are from actual class - loss function definition\n",
        "criterion=nn.CrossEntropyLoss()\n",
        "#Choose Adam Optimisor, lr = learning rate(if error does not go down after multiple iterations(epochs) - then lower learning rate manually)\n",
        "#optimisor - optimises the parameters.\n",
        "#If the model gets stuck when learning, then use momentum to change the learning rate\n",
        "#Start at lr=0.01 then keep increasing, higher - faster the learning\n",
        "optimizer = torch.optim.Adam(model.parameters(), lr=0.01)\n",
        "#more data, can take lot longer to learn with lower lr\n",
        "#epoch=iteration, one iteration is when you pass in all 120 input data and the output classes, and calcuate the erros\n",
        "#Repeat epochs but change the weigths every time, hopefully the erros should decreases but not always\n",
        "#Loss function only calculates the error\n",
        "#Using backptogation we change the weights using algotihms like calculus\n",
        "#model.parameters\n",
        "print(list(model.parameters()))\n"
      ],
      "metadata": {
        "colab": {
          "base_uri": "https://localhost:8080/"
        },
        "id": "IOt3XqGU9U3g",
        "outputId": "7df1c35d-d127-48dd-ac71-5b8027b7cc71"
      },
      "execution_count": null,
      "outputs": [
        {
          "output_type": "stream",
          "name": "stdout",
          "text": [
            "[Parameter containing:\n",
            "tensor([[-0.2636, -0.2734,  0.3005, -0.3308],\n",
            "        [-0.2350,  0.2720, -0.3718,  0.2452],\n",
            "        [ 0.3045,  0.1357,  0.0896,  0.1933],\n",
            "        [ 0.3782,  0.0407, -0.3600,  0.4613],\n",
            "        [ 0.3666, -0.0116, -0.2923, -0.1937],\n",
            "        [-0.4415,  0.3314, -0.0434,  0.3445],\n",
            "        [ 0.1883, -0.0992, -0.3197,  0.1740],\n",
            "        [-0.3208, -0.1111,  0.2972, -0.2723]], requires_grad=True), Parameter containing:\n",
            "tensor([-0.0245, -0.0679,  0.0573,  0.4814,  0.2923, -0.1877,  0.4425, -0.1626],\n",
            "       requires_grad=True), Parameter containing:\n",
            "tensor([[ 0.1456,  0.1463, -0.0107, -0.3290,  0.3324, -0.0817,  0.2408, -0.2121],\n",
            "        [-0.0361,  0.3031, -0.3068,  0.0136, -0.0046, -0.3022, -0.0685, -0.3241],\n",
            "        [ 0.0764,  0.0595,  0.2023,  0.0088, -0.1424, -0.1275, -0.1320,  0.2750],\n",
            "        [ 0.1133, -0.3520,  0.0632, -0.0472,  0.2579, -0.1034,  0.3086,  0.1093],\n",
            "        [-0.3185,  0.0744, -0.0807,  0.1770, -0.3035, -0.0259,  0.2337,  0.1253],\n",
            "        [ 0.1664,  0.2993,  0.1444,  0.1149,  0.0729,  0.0233,  0.3077, -0.0815],\n",
            "        [ 0.0465,  0.0049, -0.0977,  0.2585,  0.0198, -0.3007,  0.2398, -0.1170],\n",
            "        [ 0.0346, -0.3206,  0.1403, -0.2425, -0.0401,  0.3035,  0.0846,  0.2948],\n",
            "        [-0.1916, -0.3289, -0.2831, -0.1211, -0.1101, -0.0240,  0.2022,  0.3083]],\n",
            "       requires_grad=True), Parameter containing:\n",
            "tensor([-0.3468, -0.2051,  0.3039, -0.0589, -0.0997, -0.3476, -0.0578, -0.3142,\n",
            "         0.2995], requires_grad=True), Parameter containing:\n",
            "tensor([[-0.1529, -0.1029,  0.0621,  0.1514,  0.2912, -0.0564, -0.2488,  0.2912,\n",
            "         -0.0707],\n",
            "        [ 0.1217, -0.2522, -0.2136, -0.0250, -0.1106,  0.0118,  0.1256,  0.0327,\n",
            "         -0.1445],\n",
            "        [-0.0078,  0.2576,  0.2920,  0.2779,  0.2205,  0.1830,  0.3304, -0.3098,\n",
            "         -0.2921]], requires_grad=True), Parameter containing:\n",
            "tensor([ 0.1991,  0.3204, -0.2358], requires_grad=True)]\n"
          ]
        }
      ]
    },
    {
      "cell_type": "code",
      "source": [
        "#Train our model\n",
        "# Number of Epochs (1 epoch=1 run through all the training data in our network\n",
        "epochs=100 # if 100 does not work, we can increase it or decrease it. Overfitting vs not working\n",
        "#We want our loss to decrease so that the network is working\n",
        "#We will append our losses to a list as the training goes on\n",
        "losses=[]\n",
        "for i in range(epochs):\n",
        "  #Go forward and get a prediction\n",
        "  #Get output class prediction (y_pred), e.g. Setosa (0), (1) or (2)\n",
        "  y_pred = model.forward(X_train) # Pass training data into the model, passing the 4 features data and get predicted result\n",
        "\n",
        "  #Measure the loss/error, it is going to be high at first using criterion\n",
        "  loss = criterion(y_pred, y_train) # precicted value vs the y_train\n",
        "\n",
        "  #Keep track of our losses, helps to determine if the model is working correctly or not, is it improving/ learning\n",
        "  #loss is a tensor, therefore convert it into a number using loss.detach().numpy()\n",
        "  losses.append(loss.detach().numpy()) # Later, we will plot the losses to see the mdoel's improvement\n",
        "\n",
        "  #print every 10 epoch to see the data, what is happening\n",
        "  if i % 10 == 0:\n",
        "    print(f'Epoch: {i} and loss: {loss}')\n",
        "\n",
        "  #Improving the model\n",
        "  #Do some back propogation: take the error rate of forward propogation calculated and feed it back\n",
        "  # through the netowrk to fine tune the weights, therefore it learns better\n",
        "  optimizer.zero_grad() #function, zero_gradient for differentiation? - backpropogation algorithm\n",
        "  loss.backward() #function - backpropogation algorithm\n",
        "  optimizer.step() # Step foward into the model every time\n"
      ],
      "metadata": {
        "colab": {
          "base_uri": "https://localhost:8080/"
        },
        "id": "E1kh2qNWyYXw",
        "outputId": "be342419-2476-4325-eb27-fccbf8ffc160"
      },
      "execution_count": null,
      "outputs": [
        {
          "output_type": "stream",
          "name": "stdout",
          "text": [
            "Epoch: 0 and loss: 1.125203251838684\n",
            "Epoch: 10 and loss: 1.0097211599349976\n",
            "Epoch: 20 and loss: 0.8162347674369812\n",
            "Epoch: 30 and loss: 0.585993230342865\n",
            "Epoch: 40 and loss: 0.4003389775753021\n",
            "Epoch: 50 and loss: 0.26794716715812683\n",
            "Epoch: 60 and loss: 0.1796349585056305\n",
            "Epoch: 70 and loss: 0.12165623158216476\n",
            "Epoch: 80 and loss: 0.0860651507973671\n",
            "Epoch: 90 and loss: 0.06522614508867264\n"
          ]
        }
      ]
    },
    {
      "cell_type": "code",
      "source": [
        "#The losses keep decreasing and more less, e.g. steep in the beginning and flattens out\n",
        "#After 60-70, we flatten out and get closer to 0\n",
        "#If we do not see the error rate flatten out, we can maybe change our learning rate or increases our epochs\n",
        "#If we change our number of epochs to 200, the error rate still starts to flatten out at around 60 epochs, therefore 200 is not needed\n",
        "#Lets see it in a graph:\n",
        "plt.plot(range(epochs), losses) #Number of epochs vs that iteration's loss\n",
        "plt.ylabel(\"loss/error\")\n",
        "plt.xlabel('Epoch')\n",
        "#As we can see our graph flattens out towrads 0, the model is learning, therefore training complete"
      ],
      "metadata": {
        "colab": {
          "base_uri": "https://localhost:8080/",
          "height": 466
        },
        "id": "PuytLliU2z0f",
        "outputId": "c6863ac6-4c2a-4ee1-91aa-9c0134b8137d"
      },
      "execution_count": null,
      "outputs": [
        {
          "output_type": "execute_result",
          "data": {
            "text/plain": [
              "Text(0.5, 0, 'Epoch')"
            ]
          },
          "metadata": {},
          "execution_count": 45
        },
        {
          "output_type": "display_data",
          "data": {
            "text/plain": [
              "<Figure size 640x480 with 1 Axes>"
            ],
            "image/png": "[encoded data removed]"
          },
          "metadata": {}
        }
      ]
    },
    {
      "cell_type": "markdown",
      "source": [
        "If trainng data consists of both good (data is similar to each other) and  bad data (different to each other), then good test data, will giev high performance. Bad test data gives low performance, as model will work correctly but the test data's class labels will not match?\n",
        "\n",
        "Low performance:\n",
        "*   good training data and bad test data\n",
        "*   bad training data and good test data\n",
        "\n",
        "Therefore, only high operfromace, if training data is similar to test data"
      ],
      "metadata": {
        "id": "6rzpA9_g7yy1"
      }
    },
    {
      "cell_type": "markdown",
      "source": [
        "# Testing"
      ],
      "metadata": {
        "id": "10rMm7oH4wtc"
      }
    },
    {
      "cell_type": "code",
      "source": [
        "#Evaluate test data set (validate model on test set)\n",
        "#We will be working with the 20% of the 150 data rows, 30 rows\n",
        "#Create loop\n",
        "with torch.no_grad(): #turn off back propogation,we do not need back propogation and modify the weights, when we pass through the test data into our model\n",
        "  #X_test are the features from our test set, y_eval will be our class predictions\n",
        "  y_eval = model.forward(X_test) #we want to sent the X test data forward thorugh our model, using the model's forward funtion using relu()\n",
        "  loss = criterion(y_eval, y_test) #Find the loss or error, so finding the loss between our class prediction using the model vs the orginial test data's class\n"
      ],
      "metadata": {
        "id": "vs1T-gcQ4zWM"
      },
      "execution_count": null,
      "outputs": []
    },
    {
      "cell_type": "code",
      "source": [
        "loss #Not good, we want loss to be closer or almost the same to the loss we calculated above at epoch 90\n",
        "#Only if the numbers are close, we can get all or almost all of our predictiosn to be correct (match the y_test data)"
      ],
      "metadata": {
        "colab": {
          "base_uri": "https://localhost:8080/"
        },
        "id": "MHiuKEheUU-V",
        "outputId": "6f256aae-374d-42a3-a55d-6c4b71a3f99a"
      },
      "execution_count": null,
      "outputs": [
        {
          "output_type": "execute_result",
          "data": {
            "text/plain": [
              "tensor(0.1315)"
            ]
          },
          "metadata": {},
          "execution_count": 47
        }
      ]
    },
    {
      "cell_type": "code",
      "source": [
        "#We want to see out of the 30 rows, which ones we predicted the class corretly\n",
        "correct = 0\n",
        "with torch.no_grad():\n",
        "  for i, data in enumerate(X_test): #enumerate through X_test features, i will keep track of count, data will be the X test data\n",
        "    y_val = model.forward(data)\n",
        "\n",
        "    #Printing the name of class rather than number, so it is easier\n",
        "    if y_test[i] == 0:\n",
        "      x = \"Setosa\"\n",
        "    elif y_test[i] == 1:\n",
        "      x = 'Versicolor'\n",
        "    else:\n",
        "      x = 'Virginica'\n",
        "\n",
        "\n",
        "    #To print out so that we can see what is happening, print out y_val but it is a tensor data type therefore, convert it to string before printing\n",
        "    #Will tell us what type of flower class our network thinks it is, and we can compare it with the actual class from y_test data\n",
        "    #\\t represents tab\n",
        "    #x is string/name version of y_test[i]\n",
        "    print(f'{i+1}.) {str(y_val)} \\t {x} \\t {y_val.argmax().item()}')\n",
        "\n",
        "    #correct or not\n",
        "    if y_val.argmax().item() == y_test[i]: #Compares prediction with actaut y_test data\n",
        "      correct +=1 #Increment crrect so we can find out how many predictions we got were correct\n",
        "\n",
        "print(f'We got {correct} correct')\n",
        "#Output:\n",
        "#Gives us three values\n",
        "#Column 0 presents Sentosa, Clomn 1 represens VErsicolor and column 2 represnts Virginica\n",
        "#For row 1, the network think that the class is Virginica, as 11 is the highest out of teh three values\n",
        "#Whichever value is the highest, that represents the predicted class\n",
        "\n",
        "#Row 16 and 18 predictions are incorrect\n",
        "#If yoou change your random seed to a number closer to 30, e.g. 32, then you can get all of your prediction to be correct, getting 30 correct\n",
        "#Why is this? - Is it not random?"
      ],
      "metadata": {
        "colab": {
          "base_uri": "https://localhost:8080/"
        },
        "id": "E_65hGg3Vnnt",
        "outputId": "057ea97b-2a43-409b-9dcc-9a89b2b61a55"
      },
      "execution_count": null,
      "outputs": [
        {
          "output_type": "stream",
          "name": "stdout",
          "text": [
            "1.) tensor([-5.8771,  4.4629,  6.5155]) \t Virginica \t 2\n",
            "2.) tensor([-7.5451,  4.1668,  9.7293]) \t Virginica \t 2\n",
            "3.) tensor([-8.4517,  5.1275, 10.2015]) \t Virginica \t 2\n",
            "4.) tensor([-4.3411,  5.6280,  2.5636]) \t Versicolor \t 1\n",
            "5.) tensor([-7.1838,  4.8757,  8.3023]) \t Virginica \t 2\n",
            "6.) tensor([-3.3940,  5.3421,  1.2802]) \t Versicolor \t 1\n",
            "7.) tensor([-5.9240,  4.9826,  6.0025]) \t Virginica \t 2\n",
            "8.) tensor([-4.2895,  5.7016,  2.3920]) \t Versicolor \t 1\n",
            "9.) tensor([-6.5369,  4.9261,  7.1291]) \t Virginica \t 2\n",
            "10.) tensor([-8.0526,  4.4129, 10.3325]) \t Virginica \t 2\n",
            "11.) tensor([-5.6775,  4.9505,  5.6248]) \t Virginica \t 2\n",
            "12.) tensor([ 4.5748, -2.2579, -2.8925]) \t Setosa \t 0\n",
            "13.) tensor([ 4.2646, -2.0055, -2.7342]) \t Setosa \t 0\n",
            "14.) tensor([-2.1081,  4.0482,  0.5803]) \t Versicolor \t 1\n",
            "15.) tensor([ 3.4608, -1.2147, -2.3488]) \t Setosa \t 0\n",
            "16.) tensor([-5.4739,  5.1174,  5.0966]) \t Virginica \t 1\n",
            "17.) tensor([ 4.0637, -1.8045, -2.6504]) \t Setosa \t 0\n",
            "18.) tensor([-5.8090,  4.6057,  6.2494]) \t Versicolor \t 2\n",
            "19.) tensor([ 4.9250, -2.5763, -3.0545]) \t Setosa \t 0\n",
            "20.) tensor([ 3.4559, -1.2559, -2.3637]) \t Setosa \t 0\n",
            "21.) tensor([-2.6161,  4.5584,  0.8575]) \t Versicolor \t 1\n",
            "22.) tensor([-7.7427,  4.7379,  9.4233]) \t Virginica \t 2\n",
            "23.) tensor([ 3.5776, -1.3269, -2.4109]) \t Setosa \t 0\n",
            "24.) tensor([ 4.5445, -2.2478, -2.8698]) \t Setosa \t 0\n",
            "25.) tensor([-2.6548,  4.6138,  0.8825]) \t Versicolor \t 1\n",
            "26.) tensor([-3.2832,  5.2189,  1.2163]) \t Versicolor \t 1\n",
            "27.) tensor([-4.6527,  5.7790,  2.9302]) \t Versicolor \t 1\n",
            "28.) tensor([-2.9436,  4.8858,  1.0381]) \t Versicolor \t 1\n",
            "29.) tensor([ 4.5932, -2.2788, -2.8989]) \t Setosa \t 0\n",
            "30.) tensor([-4.5797,  5.4566,  3.1690]) \t Versicolor \t 1\n",
            "We got 28 correct\n"
          ]
        }
      ]
    },
    {
      "cell_type": "markdown",
      "source": [
        "The model is pretty good/ ok as we got 28 predictions correct out of the 30."
      ],
      "metadata": {
        "id": "FNOk-7BBb1HG"
      }
    },
    {
      "cell_type": "markdown",
      "source": [
        "# Evalute with New Data"
      ],
      "metadata": {
        "id": "8GrRQxUnftbh"
      }
    },
    {
      "cell_type": "code",
      "source": [
        "#We want to predict a new flower's class using its features\n",
        "#This is assuming we already know the data points (featire values) rather than converting an input image into its feature values\n",
        "\n",
        "#Create new data point\n",
        "new_iris = torch.tensor([4.7, 3.2,1.7,0.2]) #The 4 features values as input\n"
      ],
      "metadata": {
        "id": "9-coXmNNf3CL"
      },
      "execution_count": null,
      "outputs": []
    },
    {
      "cell_type": "code",
      "source": [
        "#Same process as test data, we need to pass the unkown data through the network and get a predicted class as output\n",
        "with torch.no_grad():\n",
        "  print(model(new_iris)) #Run the model with the new data"
      ],
      "metadata": {
        "colab": {
          "base_uri": "https://localhost:8080/"
        },
        "id": "7RmK37G6guXW",
        "outputId": "a3061780-99b8-4080-e970-9e1074943a2f"
      },
      "execution_count": null,
      "outputs": [
        {
          "output_type": "stream",
          "name": "stdout",
          "text": [
            "tensor([ 3.9783, -1.7317, -2.6085])\n"
          ]
        }
      ]
    },
    {
      "cell_type": "markdown",
      "source": [
        "Therefore, as 3.9783 is the biggest number out of the three numbers, the predicted class is Setosa"
      ],
      "metadata": {
        "id": "sTN86iQahItG"
      }
    },
    {
      "cell_type": "code",
      "source": [
        "#Lets test with a known data point\n",
        "newer_iris = torch.tensor([5.9,3.0,5.1,1.8]) # We know this is class 2, Virginica (using row 149)\n",
        "\n",
        "with torch.no_grad():\n",
        "  print(model(newer_iris)) #Run the model with the new data\n",
        "\n"
      ],
      "metadata": {
        "colab": {
          "base_uri": "https://localhost:8080/"
        },
        "id": "iue4kKCThepy",
        "outputId": "b17cdbbc-0f61-4623-b860-0aabb2c66c54"
      },
      "execution_count": null,
      "outputs": [
        {
          "output_type": "stream",
          "name": "stdout",
          "text": [
            "tensor([-5.9960,  4.5080,  6.6831])\n"
          ]
        }
      ]
    },
    {
      "cell_type": "markdown",
      "source": [
        "As the largest number is 6.6831, therefore predicted class is 2.0, which is Virginica, therefore correct."
      ],
      "metadata": {
        "id": "XdlQIDvsh61s"
      }
    },
    {
      "cell_type": "code",
      "source": [
        "#To convert the tensor to name of class/ name of iris\n",
        "#model(newer_iris).argmax().item() - gets the largest value from the tensor list?\n",
        "if model(newer_iris).argmax().item() == 0:\n",
        "  x = \"Setosa\"\n",
        "elif model(newer_iris).argmax().item() == 1:\n",
        "  x = 'Versicolor'\n",
        "else:\n",
        "  x = 'Virginica'\n",
        "\n",
        "print(\"The predicted class is:\", x)\n",
        "\n"
      ],
      "metadata": {
        "colab": {
          "base_uri": "https://localhost:8080/"
        },
        "id": "Cv6KOW60ioMx",
        "outputId": "993565cd-24ed-4830-cf0e-6e647aaf66a0"
      },
      "execution_count": null,
      "outputs": [
        {
          "output_type": "stream",
          "name": "stdout",
          "text": [
            "The predicted class is: Virginica\n"
          ]
        }
      ]
    },
    {
      "cell_type": "markdown",
      "source": [
        "# Save and load our model"
      ],
      "metadata": {
        "id": "4n0U8cjEjdh3"
      }
    },
    {
      "cell_type": "code",
      "source": [
        "#Save our NN model, and load the model to use later\n",
        "#'my_iris_model' is the name of our model\n",
        "torch.save(model.state_dict(), 'my_iris_model.pt') #Saves our weights and biases of our trained model into a dictionary, saves it onto our Google Collab unit"
      ],
      "metadata": {
        "id": "8FQBkfJFjitf"
      },
      "execution_count": null,
      "outputs": []
    },
    {
      "cell_type": "code",
      "source": [
        "#To load the model\n",
        "new_model = Model() #Create new model and load our saved data of weights and biases of our trained model\n",
        "new_model.load_state_dict(torch.load('my_iris_model.pt'))"
      ],
      "metadata": {
        "colab": {
          "base_uri": "https://localhost:8080/"
        },
        "id": "OC1PQAgJkOkg",
        "outputId": "f4494605-aff9-419d-8cc4-8b2c2e5009e7"
      },
      "execution_count": null,
      "outputs": [
        {
          "output_type": "execute_result",
          "data": {
            "text/plain": [
              "<All keys matched successfully>"
            ]
          },
          "metadata": {},
          "execution_count": 56
        }
      ]
    },
    {
      "cell_type": "code",
      "source": [
        "#Make sure the model loaded correctly\n",
        "new_model.eval() # Wherever we use model, just replace with new model in our testing code, to work with a new model - easy to re-use"
      ],
      "metadata": {
        "colab": {
          "base_uri": "https://localhost:8080/"
        },
        "id": "QITzJbZZkm1h",
        "outputId": "d0bb2c49-272d-43e7-e9f0-fc925ab6114c"
      },
      "execution_count": null,
      "outputs": [
        {
          "output_type": "execute_result",
          "data": {
            "text/plain": [
              "Model(\n",
              "  (fc1): Linear(in_features=4, out_features=8, bias=True)\n",
              "  (fc2): Linear(in_features=8, out_features=9, bias=True)\n",
              "  (out): Linear(in_features=9, out_features=3, bias=True)\n",
              ")"
            ]
          },
          "metadata": {},
          "execution_count": 57
        }
      ]
    }
  ]
}